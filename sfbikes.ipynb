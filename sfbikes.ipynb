{
 "cells": [
  {
   "cell_type": "code",
   "execution_count": 179,
   "metadata": {
    "autoscroll": "json-false",
    "collapsed": false,
    "ein.tags": [
     "worksheet-0"
    ],
    "slideshow": {
     "slide_type": "-"
    }
   },
   "outputs": [
    {
     "name": "stdout",
     "output_type": "stream",
     "text": [
      "0.19.2\n"
     ]
    }
   ],
   "source": [
    "from pandas import *\n",
    "import pandas\n",
    "print pandas.__version__\n",
    "import numpy as np\n",
    "import matplotlib.pyplot as plt\n",
    "import matplotlib\n",
    "from datetime import datetime\n",
    "from geopy.geocoders import Nominatim\n",
    "\n",
    "%matplotlib inline\n",
    "matplotlib.style.use('ggplot')\n",
    "\n",
    "\n"
   ]
  },
  {
   "cell_type": "markdown",
   "metadata": {
    "ein.tags": [
     "worksheet-0"
    ],
    "slideshow": {
     "slide_type": "-"
    }
   },
   "source": [
    "## Load datas\n"
   ]
  },
  {
   "cell_type": "code",
   "execution_count": 180,
   "metadata": {
    "autoscroll": "json-false",
    "collapsed": false,
    "ein.tags": [
     "worksheet-0"
    ],
    "slideshow": {
     "slide_type": "-"
    }
   },
   "outputs": [],
   "source": [
    "weather = read_csv('201402_babs_open_data/201402_weather_data.csv',index_col=0,parse_dates=True)\n",
    "status = read_csv('201402_babs_open_data/201402_status_data.csv',index_col=0,parse_dates=True)\n",
    "stations = read_csv('201402_babs_open_data/201402_station_data.csv',index_col=0,parse_dates=True)"
   ]
  },
  {
   "cell_type": "code",
   "execution_count": 321,
   "metadata": {
    "autoscroll": "json-false",
    "collapsed": false,
    "ein.tags": [
     "worksheet-0"
    ],
    "slideshow": {
     "slide_type": "-"
    }
   },
   "outputs": [],
   "source": [
    "s1 = status[:10]\n",
    "s3 = stations[:4]\n",
    "s1.ix[:,\"station_id\"]=s1.index\n",
    "s1.index=s1.time\n"
   ]
  },
  {
   "cell_type": "code",
   "execution_count": 322,
   "metadata": {
    "autoscroll": "json-false",
    "collapsed": false,
    "ein.tags": [
     "worksheet-0"
    ],
    "slideshow": {
     "slide_type": "-"
    }
   },
   "outputs": [],
   "source": [
    "def take_time(dt):\n",
    "    d=datetime.strptime(dt, '%Y/%m/%d %H:%M:%S')\n",
    "    return d.strftime('%H:%M:%S')\n",
    "    \n",
    "def take_date(dt):\n",
    "    d=datetime.strptime(dt, '%Y/%m/%d %H:%M:%S')\n",
    "    return d.strftime('%Y-%m-%d')\n",
    "s1.ix[:,\"Date\"]=s1.time.apply(take_date)\n",
    "s1.ix[:,\"time\"]=s1.time.apply(take_time)\n",
    "s1.Date=s1.Date.apply(to_datetime)\n",
    "s1.time=s1.time.apply(to_datetime)\n"
   ]
  },
  {
   "cell_type": "code",
   "execution_count": 318,
   "metadata": {
    "autoscroll": "json-false",
    "collapsed": false,
    "ein.tags": [
     "worksheet-0"
    ],
    "slideshow": {
     "slide_type": "-"
    }
   },
   "outputs": [],
   "source": [
    "import re\n",
    "\n",
    "geolocator = Nominatim()\n",
    "\n",
    "def coor2zip(x):\n",
    "    loc  = geolocator.reverse(str(x[0])+\", \"+str(x[1]))\n",
    "    zips=str(loc.raw['address']['postcode'])\n",
    "    intzip=re.findall(r\"[0-9]{5}\", zips)\n",
    "    return int(intzip[0])\n",
    "\n",
    "stations.ix[:,'zip']=stations.ix[:,'lat':'long'].apply(coor2zip,axis=1)"
   ]
  },
  {
   "cell_type": "code",
   "execution_count": 376,
   "metadata": {
    "autoscroll": "json-false",
    "collapsed": false,
    "ein.tags": [
     "worksheet-0"
    ],
    "slideshow": {
     "slide_type": "-"
    }
   },
   "outputs": [
    {
     "data": {
      "text/plain": [
       "array([94107, 94063, 94301, 94041, 95113])"
      ]
     },
     "execution_count": 376,
     "metadata": {},
     "output_type": "execute_result"
    }
   ],
   "source": [
    "result = s1.join(stations,on='station_id')\n",
    "res = result.ix[:,['Date','station_id','zip','time','bikes_available','docks_available']]\n",
    "#result = res.join(weather, on=['Date','zip'])\n",
    "cities = weather.zip.unique()\n",
    "# TODO: write the function that will count the distance between different zip codes and will return the closest zip code from weather predictions\n",
    "#def zip2w(x,cit):\n",
    "    \n",
    "    "
   ]
  },
  {
   "cell_type": "code",
   "execution_count": 378,
   "metadata": {
    "autoscroll": "json-false",
    "collapsed": false,
    "ein.tags": [
     "worksheet-0"
    ],
    "slideshow": {
     "slide_type": "-"
    }
   },
   "outputs": [
    {
     "data": {
      "text/plain": [
       "array([95110, 95128, 95113, 95112, 94063, 94041, 94040, 94301, 94306,\n",
       "       94102, 94109, 94111, 94133, 94108, 94105, 94107, 94103, 94118,\n",
       "       94124, 94104, 95126])"
      ]
     },
     "execution_count": 378,
     "metadata": {},
     "output_type": "execute_result"
    }
   ],
   "source": [
    "stations.zip.unique()"
   ]
  },
  {
   "cell_type": "code",
   "execution_count": 400,
   "metadata": {
    "autoscroll": "json-false",
    "collapsed": false,
    "ein.tags": [
     "worksheet-0"
    ],
    "slideshow": {
     "slide_type": "-"
    }
   },
   "outputs": [
    {
     "name": "stdout",
     "output_type": "stream",
     "text": [
      "33.3773804556\n"
     ]
    }
   ],
   "source": [
    "from geopy import distance\n",
    "d = distance.distance\n",
    "_, wa = geolocator.geocode('94063')\n",
    "_, pa = geolocator.geocode('95113')\n",
    "print((d(wa, pa)).kilometers)"
   ]
  },
  {
   "cell_type": "code",
   "execution_count": 187,
   "metadata": {
    "autoscroll": "json-false",
    "collapsed": false,
    "ein.tags": [
     "worksheet-0"
    ],
    "slideshow": {
     "slide_type": "-"
    }
   },
   "outputs": [
    {
     "data": {
      "text/plain": [
       "                     bikes_available  docks_available                time  \\\n",
       "time                                                                        \n",
       "2013/08/29 12:06:01                2               25 2017-02-22 12:06:01   \n",
       "2013/08/29 12:07:01                2               25 2017-02-22 12:07:01   \n",
       "2013/08/29 12:08:01                2               25 2017-02-22 12:08:01   \n",
       "2013/08/29 12:09:01                2               25 2017-02-22 12:09:01   \n",
       "2013/08/29 12:10:01                2               25 2017-02-22 12:10:01   \n",
       "2013/08/29 12:11:01                2               25 2017-02-22 12:11:01   \n",
       "2013/08/29 12:12:01                2               25 2017-02-22 12:12:01   \n",
       "2013/08/29 12:13:01                2               25 2017-02-22 12:13:01   \n",
       "2013/08/29 12:15:01                2               25 2017-02-22 12:15:01   \n",
       "2013/08/29 12:16:02                2               25 2017-02-22 12:16:02   \n",
       "\n",
       "                     st_id       Date  Max_Temperature_F  Mean_Temperature_F  \\\n",
       "time                                                                           \n",
       "2013/08/29 12:06:01      2 2013-08-29                 74                  68   \n",
       "2013/08/29 12:07:01      2 2013-08-29                 74                  68   \n",
       "2013/08/29 12:08:01      2 2013-08-29                 74                  68   \n",
       "2013/08/29 12:09:01      2 2013-08-29                 74                  68   \n",
       "2013/08/29 12:10:01      2 2013-08-29                 74                  68   \n",
       "2013/08/29 12:11:01      2 2013-08-29                 74                  68   \n",
       "2013/08/29 12:12:01      2 2013-08-29                 74                  68   \n",
       "2013/08/29 12:13:01      2 2013-08-29                 74                  68   \n",
       "2013/08/29 12:15:01      2 2013-08-29                 74                  68   \n",
       "2013/08/29 12:16:02      2 2013-08-29                 74                  68   \n",
       "\n",
       "                     Min_TemperatureF  Max_Dew_Point_F  MeanDew_Point_F  \\\n",
       "time                                                                      \n",
       "2013/08/29 12:06:01                61               61               58   \n",
       "2013/08/29 12:07:01                61               61               58   \n",
       "2013/08/29 12:08:01                61               61               58   \n",
       "2013/08/29 12:09:01                61               61               58   \n",
       "2013/08/29 12:10:01                61               61               58   \n",
       "2013/08/29 12:11:01                61               61               58   \n",
       "2013/08/29 12:12:01                61               61               58   \n",
       "2013/08/29 12:13:01                61               61               58   \n",
       "2013/08/29 12:15:01                61               61               58   \n",
       "2013/08/29 12:16:02                61               61               58   \n",
       "\n",
       "                     ...    Mean_Visibility_Miles   Min_Visibility_Miles   \\\n",
       "time                 ...                                                    \n",
       "2013/08/29 12:06:01  ...                        10                     10   \n",
       "2013/08/29 12:07:01  ...                        10                     10   \n",
       "2013/08/29 12:08:01  ...                        10                     10   \n",
       "2013/08/29 12:09:01  ...                        10                     10   \n",
       "2013/08/29 12:10:01  ...                        10                     10   \n",
       "2013/08/29 12:11:01  ...                        10                     10   \n",
       "2013/08/29 12:12:01  ...                        10                     10   \n",
       "2013/08/29 12:13:01  ...                        10                     10   \n",
       "2013/08/29 12:15:01  ...                        10                     10   \n",
       "2013/08/29 12:16:02  ...                        10                     10   \n",
       "\n",
       "                     Max_Wind_Speed_MPH   Mean_Wind_Speed_MPH   \\\n",
       "time                                                             \n",
       "2013/08/29 12:06:01                   23                    11   \n",
       "2013/08/29 12:07:01                   23                    11   \n",
       "2013/08/29 12:08:01                   23                    11   \n",
       "2013/08/29 12:09:01                   23                    11   \n",
       "2013/08/29 12:10:01                   23                    11   \n",
       "2013/08/29 12:11:01                   23                    11   \n",
       "2013/08/29 12:12:01                   23                    11   \n",
       "2013/08/29 12:13:01                   23                    11   \n",
       "2013/08/29 12:15:01                   23                    11   \n",
       "2013/08/29 12:16:02                   23                    11   \n",
       "\n",
       "                     Max_Gust_Speed_MPH  Precipitation_In   Cloud_Cover   \\\n",
       "time                                                                       \n",
       "2013/08/29 12:06:01                28.0                  0             4   \n",
       "2013/08/29 12:07:01                28.0                  0             4   \n",
       "2013/08/29 12:08:01                28.0                  0             4   \n",
       "2013/08/29 12:09:01                28.0                  0             4   \n",
       "2013/08/29 12:10:01                28.0                  0             4   \n",
       "2013/08/29 12:11:01                28.0                  0             4   \n",
       "2013/08/29 12:12:01                28.0                  0             4   \n",
       "2013/08/29 12:13:01                28.0                  0             4   \n",
       "2013/08/29 12:15:01                28.0                  0             4   \n",
       "2013/08/29 12:16:02                28.0                  0             4   \n",
       "\n",
       "                     Events  Wind_Dir_Degrees    zip  \n",
       "time                                                  \n",
       "2013/08/29 12:06:01     NaN               286  94107  \n",
       "2013/08/29 12:07:01     NaN               286  94107  \n",
       "2013/08/29 12:08:01     NaN               286  94107  \n",
       "2013/08/29 12:09:01     NaN               286  94107  \n",
       "2013/08/29 12:10:01     NaN               286  94107  \n",
       "2013/08/29 12:11:01     NaN               286  94107  \n",
       "2013/08/29 12:12:01     NaN               286  94107  \n",
       "2013/08/29 12:13:01     NaN               286  94107  \n",
       "2013/08/29 12:15:01     NaN               286  94107  \n",
       "2013/08/29 12:16:02     NaN               286  94107  \n",
       "\n",
       "[10 rows x 28 columns]"
      ]
     },
     "execution_count": 187,
     "metadata": {},
     "output_type": "execute_result"
    }
   ],
   "source": [
    "result = s1.join(s2, on='Date')\n",
    "result\n"
   ]
  }
 ],
 "metadata": {},
 "nbformat": 4,
 "nbformat_minor": 2
}
