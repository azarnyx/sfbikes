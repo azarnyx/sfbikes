{
 "cells": [
  {
   "cell_type": "code",
   "execution_count": 1,
   "metadata": {
    "autoscroll": "json-false",
    "collapsed": false,
    "ein.tags": [
     "worksheet-0"
    ],
    "slideshow": {
     "slide_type": "-"
    }
   },
   "outputs": [
    {
     "name": "stdout",
     "output_type": "stream",
     "text": [
      "0.19.2\n"
     ]
    }
   ],
   "source": [
    "from pandas import *\n",
    "import pandas\n",
    "print pandas.__version__\n",
    "import numpy as np\n",
    "import matplotlib.pyplot as plt\n",
    "import matplotlib\n",
    "from datetime import datetime\n",
    "from geopy.geocoders import Nominatim\n",
    "\n",
    "%matplotlib inline\n",
    "matplotlib.style.use('ggplot')\n",
    "\n",
    "\n"
   ]
  },
  {
   "cell_type": "markdown",
   "metadata": {
    "ein.tags": [
     "worksheet-0"
    ],
    "slideshow": {
     "slide_type": "-"
    }
   },
   "source": [
    "## Load datas\n"
   ]
  },
  {
   "cell_type": "code",
   "execution_count": 2,
   "metadata": {
    "autoscroll": "json-false",
    "collapsed": false,
    "ein.tags": [
     "worksheet-0"
    ],
    "slideshow": {
     "slide_type": "-"
    }
   },
   "outputs": [],
   "source": [
    "weather = read_csv('201402_babs_open_data/201402_weather_data.csv',index_col=0,parse_dates=True)\n",
    "status = read_csv('201402_babs_open_data/201402_status_data.csv',index_col=0,parse_dates=True)\n",
    "stations = read_csv('201402_babs_open_data/201402_station_data.csv',index_col=0,parse_dates=True)"
   ]
  },
  {
   "cell_type": "code",
   "execution_count": 6,
   "metadata": {
    "autoscroll": "json-false",
    "collapsed": false,
    "ein.tags": [
     "worksheet-0"
    ],
    "slideshow": {
     "slide_type": "-"
    }
   },
   "outputs": [],
   "source": [
    "s1 = status[:10]\n",
    "s3 = stations[:4]\n",
    "s1.loc[:,\"station_id\"]=s1.index\n",
    "s1.index=s1.time\n"
   ]
  },
  {
   "cell_type": "code",
   "execution_count": 7,
   "metadata": {
    "autoscroll": "json-false",
    "collapsed": false,
    "ein.tags": [
     "worksheet-0"
    ],
    "slideshow": {
     "slide_type": "-"
    }
   },
   "outputs": [],
   "source": [
    "# separate date and time to two different columns\n",
    "def take_time(dt):\n",
    "    d=datetime.strptime(dt, '%Y/%m/%d %H:%M:%S')\n",
    "    return d.strftime('%H:%M:%S')\n",
    "    \n",
    "def take_date(dt):\n",
    "    d=datetime.strptime(dt, '%Y/%m/%d %H:%M:%S')\n",
    "    return d.strftime('%Y-%m-%d')\n",
    "s1.loc[:,\"Date\"]=s1.time.apply(take_date)\n",
    "s1.loc[:,\"time\"]=s1.time.apply(take_time)\n",
    "s1.Date=s1.Date.apply(to_datetime)\n",
    "s1.time=s1.time.apply(to_datetime)\n"
   ]
  },
  {
   "cell_type": "code",
   "execution_count": 0,
   "metadata": {
    "autoscroll": "json-false",
    "collapsed": false,
    "ein.tags": [
     "worksheet-0"
    ],
    "slideshow": {
     "slide_type": "-"
    }
   },
   "outputs": [],
   "source": [
    "import re\n",
    "\n",
    "geolocator = Nominatim()\n",
    "\n",
    "def coor2zip(x):\n",
    "    loc  = geolocator.reverse(str(x[0])+\", \"+str(x[1]))\n",
    "    zips=str(loc.raw['address']['postcode'])\n",
    "    intzip=re.findall(r\"[0-9]{5}\", zips)\n",
    "    return int(intzip[0])\n",
    "\n",
    "stations.ix[:,'zip']=stations.ix[:,'lat':'long'].apply(coor2zip,axis=1)"
   ]
  },
  {
   "cell_type": "code",
   "execution_count": 25,
   "metadata": {
    "autoscroll": "json-false",
    "collapsed": false,
    "ein.tags": [
     "worksheet-0"
    ],
    "slideshow": {
     "slide_type": "-"
    }
   },
   "outputs": [
    {
     "name": "stdout",
     "output_type": "stream",
     "text": [
      "95126 95113 1945.83298315 94301\n"
     ]
    },
    {
     "name": "stdout",
     "output_type": "stream",
     "text": [
      "94104 95113 0.37776864997 94107\n"
     ]
    },
    {
     "name": "stdout",
     "output_type": "stream",
     "text": [
      "94124 95113 7.37773835065 94107\n"
     ]
    },
    {
     "name": "stdout",
     "output_type": "stream",
     "text": [
      "94118 95113 4.87900920235 94107\n"
     ]
    },
    {
     "name": "stdout",
     "output_type": "stream",
     "text": [
      "94103 95113 1.32237174194 94107\n"
     ]
    },
    {
     "name": "stdout",
     "output_type": "stream",
     "text": [
      "94107 95113 0.0 94107\n"
     ]
    },
    {
     "name": "stdout",
     "output_type": "stream",
     "text": [
      "94105 95113 0.831962715078 94107\n"
     ]
    },
    {
     "name": "stdout",
     "output_type": "stream",
     "text": [
      "94108 95113 1.07739447787 94107\n"
     ]
    },
    {
     "name": "stdout",
     "output_type": "stream",
     "text": [
      "94133 95113 2.20261187215 94107\n"
     ]
    },
    {
     "name": "stdout",
     "output_type": "stream",
     "text": [
      "94111 95113 1.40276982853 94107\n"
     ]
    },
    {
     "name": "stdout",
     "output_type": "stream",
     "text": [
      "94109 95113 2.95810620017 94107\n"
     ]
    },
    {
     "name": "stdout",
     "output_type": "stream",
     "text": [
      "94102 95113 1.57853241827 94107\n"
     ]
    },
    {
     "name": "stdout",
     "output_type": "stream",
     "text": [
      "94306 95113 6.1705619585 94041\n"
     ]
    },
    {
     "name": "stdout",
     "output_type": "stream",
     "text": [
      "94301 95113 0.0 94301\n"
     ]
    },
    {
     "name": "stdout",
     "output_type": "stream",
     "text": [
      "94040 95113 1.00891390089 94041\n"
     ]
    },
    {
     "name": "stdout",
     "output_type": "stream",
     "text": [
      "94041 95113 0.0 94041\n"
     ]
    },
    {
     "name": "stdout",
     "output_type": "stream",
     "text": [
      "94063 95113 0.0 94063\n"
     ]
    },
    {
     "name": "stdout",
     "output_type": "stream",
     "text": [
      "95112 95113 0.649942724697 95113\n"
     ]
    },
    {
     "name": "stdout",
     "output_type": "stream",
     "text": [
      "95113 95113 0.0 95113\n"
     ]
    },
    {
     "name": "stdout",
     "output_type": "stream",
     "text": [
      "95128 95113 1947.74837738 94301\n"
     ]
    },
    {
     "name": "stdout",
     "output_type": "stream",
     "text": [
      "95110 95113 0.748799354457 95113\n"
     ]
    }
   ],
   "source": [
    "from geopy import distance\n",
    "\n",
    "zcities = weather.zip.unique()\n",
    "zstations = stations.zip.unique()\n",
    "\n",
    "def zipdist(zip1,zip2):\n",
    "    #return distance between two zip codes\n",
    "    d = distance.distance\n",
    "    _, wa = geolocator.geocode(zip1,timeout=20)\n",
    "    _, pa = geolocator.geocode(zip2,timeout=20)\n",
    "    return (d(wa, pa)).kilometers\n",
    "\n",
    "def zcit_2_zst(sta,cit):\n",
    "    # return pandas Dataframe of correspondence between zip codes\n",
    "    # TODO: can be made faster\n",
    "    ziptab = {}\n",
    "    for i in sta:\n",
    "        mdist = 1e4\n",
    "        zm = 0\n",
    "        for j in cit:\n",
    "            dist = zipdist(i,j)\n",
    "            if dist < mdist:\n",
    "                mdist = dist\n",
    "                zm    = j\n",
    "        print i,j,mdist,zm\n",
    "        ziptab[str(i)] = zm\n",
    "    return DataFrame(data=ziptab,index=['zipc']).transpose()\n",
    "\n",
    "ziptab = zcit_2_zst(zstations,zcities)"
   ]
  },
  {
   "cell_type": "code",
   "execution_count": 0,
   "metadata": {
    "autoscroll": "json-false",
    "collapsed": false,
    "ein.tags": [
     "worksheet-0"
    ],
    "slideshow": {
     "slide_type": "-"
    }
   },
   "outputs": [],
   "source": [
    "result = s1.join(stations,on='station_id')\n",
    "res = result.ix[:,['Date','station_id','zip','time','bikes_available','docks_available']]\n",
    "#result = res.join(weather, on=['Date','zip'])\n"
   ]
  },
  {
   "cell_type": "code",
   "execution_count": 48,
   "metadata": {
    "autoscroll": "json-false",
    "collapsed": false,
    "ein.tags": [
     "worksheet-0"
    ],
    "slideshow": {
     "slide_type": "-"
    }
   },
   "outputs": [
    {
     "data": {
      "text/plain": [
       "        zipc\n",
       "94040  94041\n",
       "94041  94041\n",
       "94063  94063\n",
       "94102  94107\n",
       "94103  94107\n",
       "94104  94107\n",
       "94105  94107\n",
       "94107  94107\n",
       "94108  94107\n",
       "94109  94107\n",
       "94111  94107\n",
       "94118  94107\n",
       "94124  94107\n",
       "94133  94107\n",
       "94301  94301\n",
       "94306  94041\n",
       "95110  95113\n",
       "95112  95113\n",
       "95113  95113\n",
       "95126  94301\n",
       "95128  94301"
      ]
     },
     "execution_count": 48,
     "metadata": {},
     "output_type": "execute_result"
    }
   ],
   "source": [
    "d = {'col1': 1, 'col2': 2}\n",
    "\n"
   ]
  },
  {
   "cell_type": "code",
   "execution_count": 20,
   "metadata": {
    "autoscroll": "json-false",
    "collapsed": false,
    "ein.tags": [
     "worksheet-0"
    ],
    "slideshow": {
     "slide_type": "-"
    }
   },
   "outputs": [
    {
     "data": {
      "text/plain": [
       "array([95110, 95128, 95113, 95112, 94063, 94041, 94040, 94301, 94306,\n",
       "       94102, 94109, 94111, 94133, 94108, 94105, 94107, 94103, 94118,\n",
       "       94124, 94104, 95126])"
      ]
     },
     "execution_count": 20,
     "metadata": {},
     "output_type": "execute_result"
    }
   ],
   "source": [
    "zstations"
   ]
  },
  {
   "cell_type": "code",
   "execution_count": 10,
   "metadata": {
    "autoscroll": "json-false",
    "collapsed": false,
    "ein.tags": [
     "worksheet-0"
    ],
    "slideshow": {
     "slide_type": "-"
    }
   },
   "outputs": [
    {
     "data": {
      "text/plain": [
       "array([95110, 95128, 95113, 95112, 94063, 94041, 94040, 94301, 94306,\n",
       "       94102, 94109, 94111, 94133, 94108, 94105, 94107, 94103, 94118,\n",
       "       94124, 94104, 95126])"
      ]
     },
     "execution_count": 10,
     "metadata": {},
     "output_type": "execute_result"
    }
   ],
   "source": [
    "stations.zip.unique()"
   ]
  },
  {
   "cell_type": "code",
   "execution_count": 11,
   "metadata": {
    "autoscroll": "json-false",
    "collapsed": false,
    "ein.tags": [
     "worksheet-0"
    ],
    "slideshow": {
     "slide_type": "-"
    }
   },
   "outputs": [
    {
     "name": "stdout",
     "output_type": "stream",
     "text": [
      "33.3773804556\n"
     ]
    }
   ],
   "source": [
    "\n",
    "d = distance.distance\n",
    "_, wa = geolocator.geocode('94063')\n",
    "_, pa = geolocator.geocode('95113')\n",
    "print((d(wa, pa)).kilometers)\n"
   ]
  },
  {
   "cell_type": "code",
   "execution_count": 12,
   "metadata": {
    "autoscroll": "json-false",
    "collapsed": false,
    "ein.tags": [
     "worksheet-0"
    ],
    "slideshow": {
     "slide_type": "-"
    }
   },
   "outputs": [
    {
     "ename": "NameError",
     "evalue": "name 's2' is not defined",
     "output_type": "error",
     "traceback": [
      "\u001b[0;31m---------------------------------------------------------------------------\u001b[0m",
      "\u001b[0;31mNameError\u001b[0m                                 Traceback (most recent call last)",
      "\u001b[0;32m<ipython-input-12-e40d7ed56a6e>\u001b[0m in \u001b[0;36m<module>\u001b[0;34m()\u001b[0m\n\u001b[0;32m----> 1\u001b[0;31m \u001b[0mresult\u001b[0m \u001b[0;34m=\u001b[0m \u001b[0ms1\u001b[0m\u001b[0;34m.\u001b[0m\u001b[0mjoin\u001b[0m\u001b[0;34m(\u001b[0m\u001b[0ms2\u001b[0m\u001b[0;34m,\u001b[0m \u001b[0mon\u001b[0m\u001b[0;34m=\u001b[0m\u001b[0;34m'Date'\u001b[0m\u001b[0;34m)\u001b[0m\u001b[0;34m\u001b[0m\u001b[0m\n\u001b[0m\u001b[1;32m      2\u001b[0m \u001b[0mresult\u001b[0m\u001b[0;34m\u001b[0m\u001b[0m\n",
      "\u001b[0;31mNameError\u001b[0m: name 's2' is not defined"
     ]
    }
   ],
   "source": [
    "result = s1.join(s2, on='Date')\n",
    "result\n"
   ]
  }
 ],
 "metadata": {},
 "nbformat": 4,
 "nbformat_minor": 2
}
