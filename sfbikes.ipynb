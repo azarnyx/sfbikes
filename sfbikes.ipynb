{
 "cells": [
  {
   "cell_type": "code",
   "execution_count": 1,
   "metadata": {
    "autoscroll": "json-false",
    "collapsed": false,
    "ein.tags": [
     "worksheet-0"
    ],
    "slideshow": {
     "slide_type": "-"
    }
   },
   "outputs": [
    {
     "name": "stdout",
     "output_type": "stream",
     "text": [
      "0.19.2\n"
     ]
    }
   ],
   "source": [
    "from pandas import *\n",
    "import pandas\n",
    "print pandas.__version__\n",
    "import numpy as np\n",
    "import matplotlib.pyplot as plt\n",
    "import matplotlib\n",
    "from datetime import datetime\n",
    "from geopy.geocoders import Nominatim\n",
    "\n",
    "%matplotlib inline\n",
    "matplotlib.style.use('ggplot')\n",
    "\n",
    "\n"
   ]
  },
  {
   "cell_type": "markdown",
   "metadata": {
    "ein.tags": [
     "worksheet-0"
    ],
    "slideshow": {
     "slide_type": "-"
    }
   },
   "source": [
    "## Load datas\n"
   ]
  },
  {
   "cell_type": "code",
   "execution_count": 2,
   "metadata": {
    "autoscroll": "json-false",
    "collapsed": false,
    "ein.tags": [
     "worksheet-0"
    ],
    "slideshow": {
     "slide_type": "-"
    }
   },
   "outputs": [],
   "source": [
    "weather = read_csv('201402_babs_open_data/201402_weather_data.csv',index_col=0,parse_dates=True)\n",
    "status = read_csv('201402_babs_open_data/201402_status_data.csv',index_col=0,parse_dates=True)\n",
    "stations = read_csv('201402_babs_open_data/201402_station_data.csv',index_col=0,parse_dates=True)"
   ]
  },
  {
   "cell_type": "code",
   "execution_count": 55,
   "metadata": {
    "autoscroll": "json-false",
    "collapsed": false,
    "ein.tags": [
     "worksheet-0"
    ],
    "slideshow": {
     "slide_type": "-"
    }
   },
   "outputs": [],
   "source": [
    "s1 = status[:10]\n",
    "s2 = weather[:4]\n",
    "s3 = stations[:4]\n",
    "s1.loc[:,\"station_id\"]=s1.index\n",
    "s1.index=s1.time\n"
   ]
  },
  {
   "cell_type": "code",
   "execution_count": 50,
   "metadata": {
    "autoscroll": "json-false",
    "collapsed": false,
    "ein.tags": [
     "worksheet-0"
    ],
    "slideshow": {
     "slide_type": "-"
    }
   },
   "outputs": [],
   "source": [
    "# separate date and time to two different columns\n",
    "def take_time(dt):\n",
    "    d=datetime.strptime(dt, '%Y/%m/%d %H:%M:%S')\n",
    "    return d.strftime('%H:%M:%S')\n",
    "    \n",
    "def take_date(dt):\n",
    "    d=datetime.strptime(dt, '%Y/%m/%d %H:%M:%S')\n",
    "    return d.strftime('%Y-%m-%d')\n",
    "s1.loc[:,\"Date\"]=s1.time.apply(take_date)\n",
    "s1.loc[:,\"time\"]=s1.time.apply(take_time)\n",
    "s1.Date=s1.Date.apply(to_datetime)\n",
    "s1.time=s1.time.apply(to_datetime)\n"
   ]
  },
  {
   "cell_type": "code",
   "execution_count": 0,
   "metadata": {
    "autoscroll": "json-false",
    "collapsed": false,
    "ein.tags": [
     "worksheet-0"
    ],
    "slideshow": {
     "slide_type": "-"
    }
   },
   "outputs": [],
   "source": [
    "import re\n",
    "\n",
    "geolocator = Nominatim()\n",
    "\n",
    "def coor2zip(x):\n",
    "    loc  = geolocator.reverse(str(x[0])+\", \"+str(x[1]))\n",
    "    zips=str(loc.raw['address']['postcode'])\n",
    "    intzip=re.findall(r\"[0-9]{5}\", zips)\n",
    "    return int(intzip[0])\n",
    "\n",
    "stations.ix[:,'zip']=stations.ix[:,'lat':'long'].apply(coor2zip,axis=1)"
   ]
  },
  {
   "cell_type": "code",
   "execution_count": 0,
   "metadata": {
    "autoscroll": "json-false",
    "collapsed": false,
    "ein.tags": [
     "worksheet-0"
    ],
    "slideshow": {
     "slide_type": "-"
    }
   },
   "outputs": [
    {
     "name": "stdout",
     "output_type": "stream",
     "text": [
      "<type 'int'>\n"
     ]
    },
    {
     "name": "stdout",
     "output_type": "stream",
     "text": [
      "<type 'int'>\n"
     ]
    },
    {
     "name": "stdout",
     "output_type": "stream",
     "text": [
      "<type 'int'>\n"
     ]
    },
    {
     "name": "stdout",
     "output_type": "stream",
     "text": [
      "<type 'int'>\n"
     ]
    },
    {
     "name": "stdout",
     "output_type": "stream",
     "text": [
      "<type 'int'>\n"
     ]
    }
   ],
   "source": [
    "# Need internte connection to work!!\n",
    "# Transfer zip codes to coordinates.\n",
    "# Instead of apply function to all, it is faster\n",
    "# to apply to unique values of zip the merge\n",
    "zcit = Series(weather.zip.unique())\n",
    "\n",
    "def zip2coor(x):\n",
    "    loca = geolocator.geocode('CA:'+str(x),timeout=20) \n",
    "    # as we are in California added CA:. otherwise work not in all cases\n",
    "    return Series({'lat':loca.latitude,'long':loca.longitude, 'zip':int(x)})\n",
    "\n",
    "zipcoor = zcit.apply(zip2coor)\n",
    "zipcoor.zip=zipcoor.zip.apply(int) #make zip int instead of float.\n",
    "a=weather.merge(zipcoor, on='zip') #add coordinates to weather"
   ]
  },
  {
   "cell_type": "code",
   "execution_count": 0,
   "metadata": {
    "autoscroll": "json-false",
    "collapsed": false,
    "ein.tags": [
     "worksheet-0"
    ],
    "slideshow": {
     "slide_type": "-"
    }
   },
   "outputs": [],
   "source": [
    "# the function distance do not use Internet\n",
    "from geopy.distance import vincenty\n",
    "\n",
    "coorstat = stations.loc[:,['lat','long']]\n",
    "\n",
    "def get_cit_coor(x):\n",
    "    c_stat = (x[0],x[1])\n",
    "    mdist=1000\n",
    "    for i in xrange(zipcoor.size):\n",
    "        c_city = (zipcoor.lat[0],zipcoor.long[0])\n",
    "        dist = vincenty(c_city, c_stat).kilometers\n",
    "        if dist < mdist:\n",
    "            mdist = dist\n",
    "            coor=c_city\n",
    "    return Series({'lat':x[0],'long':x[1],'lat_cit':coor[0],'long_cit':coor[1]})\n",
    "\n",
    "a=stations.ix[:,'lat':'long'].apply(get_cit_coor,axis=1)\n",
    "stations.merge(a,on=['lat','long'])"
   ]
  },
  {
   "cell_type": "code",
   "execution_count": 218,
   "metadata": {
    "autoscroll": "json-false",
    "collapsed": false,
    "ein.tags": [
     "worksheet-0"
    ],
    "slideshow": {
     "slide_type": "-"
    }
   },
   "outputs": [
    {
     "data": {
      "text/plain": [
       "                                                     name        lat  \\\n",
       "station_id                                                             \n",
       "2                       San Jose Diridon Caltrain Station  37.329732   \n",
       "3                                   San Jose Civic Center  37.330698   \n",
       "4                                  Santa Clara at Almaden  37.333988   \n",
       "5                                        Adobe on Almaden  37.331415   \n",
       "6                                        San Pedro Square  37.336721   \n",
       "7                                    Paseo de San Antonio  37.333798   \n",
       "8                                     San Salvador at 1st  37.330165   \n",
       "9                                               Japantown  37.348742   \n",
       "10                                     San Jose City Hall  37.337391   \n",
       "11                                            MLK Library  37.335885   \n",
       "12                                 SJSU 4th at San Carlos  37.332808   \n",
       "13                                          St James Park  37.339301   \n",
       "14                               Arena Green / SAP Center  37.332692   \n",
       "16                             SJSU - San Salvador at 9th  37.333955   \n",
       "21                                      Franklin at Maple  37.481758   \n",
       "22                          Redwood City Caltrain Station  37.486078   \n",
       "23                                San Mateo County Center  37.488501   \n",
       "24                            Redwood City Public Library  37.484219   \n",
       "25                                       Broadway at Main  37.486725   \n",
       "26                            Redwood City Medical Center  37.487682   \n",
       "27                                Mountain View City Hall  37.389218   \n",
       "28                         Mountain View Caltrain Station  37.394358   \n",
       "29                           San Antonio Caltrain Station  37.406940   \n",
       "30                                   Evelyn Park and Ride  37.390277   \n",
       "31                            San Antonio Shopping Center  37.400443   \n",
       "32                       Castro Street and El Camino Real  37.385956   \n",
       "33                  Rengstorff Avenue / California Street  37.400241   \n",
       "34                             Palo Alto Caltrain Station  37.443988   \n",
       "35                                 University and Emerson  37.444521   \n",
       "36                        California Ave Caltrain Station  37.429082   \n",
       "...                                                   ...        ...   \n",
       "49                                        Spear at Folsom  37.789625   \n",
       "50                   Harry Bridges Plaza (Ferry Building)  37.795392   \n",
       "51                                  Embarcadero at Folsom  37.791464   \n",
       "54                                  Embarcadero at Bryant  37.787152   \n",
       "55          Temporary Transbay Terminal (Howard at Beale)  37.789756   \n",
       "56                                        Beale at Market  37.792251   \n",
       "57                                          5th at Howard  37.781752   \n",
       "58                                San Francisco City Hall  37.778650   \n",
       "59                                    Golden Gate at Polk  37.781332   \n",
       "60                                 Embarcadero at Sansome  37.804770   \n",
       "61                                        2nd at Townsend  37.780526   \n",
       "62                                          2nd at Folsom  37.785299   \n",
       "63                                          Howard at 2nd  37.786978   \n",
       "64                                      2nd at South Park  37.782259   \n",
       "65                                        Townsend at 7th  37.771058   \n",
       "66                               South Van Ness at Market  37.774814   \n",
       "67                                         Market at 10th  37.776619   \n",
       "68          Yerba Buena Center of the Arts (3rd @ Howard)  37.784878   \n",
       "69                San Francisco Caltrain 2 (330 Townsend)  37.776377   \n",
       "70               San Francisco Caltrain (Townsend at 4th)  37.776617   \n",
       "71                          Powell at Post (Union Square)  37.788446   \n",
       "72                      Civic Center BART (7th at Market)  37.780356   \n",
       "73                        Grant Avenue at Columbus Avenue  37.798522   \n",
       "74                                      Steuart at Market  37.794139   \n",
       "75                    Mechanics Plaza (Market at Battery)  37.791300   \n",
       "76                                          Market at 4th  37.786305   \n",
       "77                                      Market at Sansome  37.789625   \n",
       "80                             San Jose Government Center  37.352601   \n",
       "82                              Broadway St at Battery St  37.798541   \n",
       "83                                             Mezes Park  37.491269   \n",
       "\n",
       "                  long  dockcount       landmark installation    zip  \n",
       "station_id                                                            \n",
       "2          -121.901782         27       San Jose     8/6/2013  95110  \n",
       "3          -121.888979         15       San Jose     8/5/2013  95128  \n",
       "4          -121.894902         11       San Jose     8/6/2013  95113  \n",
       "5          -121.893200         19       San Jose     8/5/2013  95113  \n",
       "6          -121.894074         15       San Jose     8/7/2013  95110  \n",
       "7          -121.886943         15       San Jose     8/7/2013  95113  \n",
       "8          -121.885831         15       San Jose     8/5/2013  95112  \n",
       "9          -121.894715         15       San Jose     8/5/2013  95112  \n",
       "10         -121.886995         15       San Jose     8/6/2013  95112  \n",
       "11         -121.885660         19       San Jose     8/6/2013  95112  \n",
       "12         -121.883891         19       San Jose     8/7/2013  95112  \n",
       "13         -121.889937         15       San Jose     8/6/2013  95112  \n",
       "14         -121.900084         19       San Jose     8/5/2013  95110  \n",
       "16         -121.877349         15       San Jose     8/7/2013  95112  \n",
       "21         -122.226904         15   Redwood City    8/12/2013  94063  \n",
       "22         -122.232089         25   Redwood City    8/15/2013  94063  \n",
       "23         -122.231061         15   Redwood City    8/15/2013  94063  \n",
       "24         -122.227424         15   Redwood City    8/12/2013  94063  \n",
       "25         -122.225551         15   Redwood City    8/12/2013  94063  \n",
       "26         -122.223492         15   Redwood City    8/12/2013  94063  \n",
       "27         -122.081896         15  Mountain View    8/16/2013  94041  \n",
       "28         -122.076713         23  Mountain View    8/15/2013  94041  \n",
       "29         -122.106758         23  Mountain View    8/15/2013  94040  \n",
       "30         -122.066553         15  Mountain View    8/16/2013  94041  \n",
       "31         -122.108338         15  Mountain View   12/31/2013  94040  \n",
       "32         -122.083678         11  Mountain View   12/31/2013  94041  \n",
       "33         -122.099076         15  Mountain View    8/16/2013  94040  \n",
       "34         -122.164759         23      Palo Alto    8/14/2013  94301  \n",
       "35         -122.163093         11      Palo Alto    8/15/2013  94301  \n",
       "36         -122.142805         15      Palo Alto    8/14/2013  94306  \n",
       "...                ...        ...            ...          ...    ...  \n",
       "49         -122.390264         19  San Francisco    8/20/2013  94105  \n",
       "50         -122.394203         23  San Francisco    8/20/2013  94111  \n",
       "51         -122.391034         19  San Francisco    8/20/2013  94105  \n",
       "54         -122.388013         15  San Francisco    8/20/2013  94107  \n",
       "55         -122.394643         23  San Francisco    8/20/2013  94105  \n",
       "56         -122.397086         19  San Francisco    8/20/2013  94105  \n",
       "57         -122.405127         15  San Francisco    8/21/2013  94103  \n",
       "58         -122.418235         19  San Francisco    8/21/2013  94102  \n",
       "59         -122.418603         23  San Francisco    8/21/2013  94118  \n",
       "60         -122.403234         15  San Francisco    8/21/2013  94111  \n",
       "61         -122.390288         27  San Francisco    8/22/2013  94107  \n",
       "62         -122.396236         19  San Francisco    8/22/2013  94107  \n",
       "63         -122.398108         19  San Francisco    8/22/2013  94103  \n",
       "64         -122.392738         15  San Francisco    8/22/2013  94107  \n",
       "65         -122.402717         15  San Francisco    8/22/2013  94107  \n",
       "66         -122.418954         19  San Francisco    8/23/2013  94103  \n",
       "67         -122.417385         27  San Francisco    8/23/2013  94103  \n",
       "68         -122.401014         19  San Francisco    8/23/2013  94124  \n",
       "69         -122.396070         23  San Francisco    8/23/2013  94107  \n",
       "70         -122.395260         19  San Francisco    8/23/2013  94107  \n",
       "71         -122.408499         19  San Francisco    8/23/2013  94133  \n",
       "72         -122.412919         23  San Francisco    8/23/2013  94102  \n",
       "73         -122.407245         15  San Francisco    8/21/2013  94133  \n",
       "74         -122.394434         23  San Francisco    8/25/2013  94105  \n",
       "75         -122.399051         19  San Francisco    8/25/2013  94104  \n",
       "76         -122.404966         19  San Francisco    8/25/2013  94103  \n",
       "77         -122.400811         27  San Francisco    8/25/2013  94104  \n",
       "80         -121.905733         15       San Jose   12/31/2013  95126  \n",
       "82         -122.400862         15  San Francisco    1/22/2014  94133  \n",
       "83         -122.236234         15   Redwood City    2/20/2014  94063  \n",
       "\n",
       "[69 rows x 7 columns]"
      ]
     },
     "execution_count": 218,
     "metadata": {},
     "output_type": "execute_result"
    }
   ],
   "source": [
    "stations"
   ]
  },
  {
   "cell_type": "code",
   "execution_count": 25,
   "metadata": {
    "autoscroll": "json-false",
    "collapsed": false,
    "ein.tags": [
     "worksheet-0"
    ],
    "slideshow": {
     "slide_type": "-"
    }
   },
   "outputs": [
    {
     "name": "stdout",
     "output_type": "stream",
     "text": [
      "95126 95113 1945.83298315 94301\n"
     ]
    },
    {
     "name": "stdout",
     "output_type": "stream",
     "text": [
      "94104 95113 0.37776864997 94107\n"
     ]
    },
    {
     "name": "stdout",
     "output_type": "stream",
     "text": [
      "94124 95113 7.37773835065 94107\n"
     ]
    },
    {
     "name": "stdout",
     "output_type": "stream",
     "text": [
      "94118 95113 4.87900920235 94107\n"
     ]
    },
    {
     "name": "stdout",
     "output_type": "stream",
     "text": [
      "94103 95113 1.32237174194 94107\n"
     ]
    },
    {
     "name": "stdout",
     "output_type": "stream",
     "text": [
      "94107 95113 0.0 94107\n"
     ]
    },
    {
     "name": "stdout",
     "output_type": "stream",
     "text": [
      "94105 95113 0.831962715078 94107\n"
     ]
    },
    {
     "name": "stdout",
     "output_type": "stream",
     "text": [
      "94108 95113 1.07739447787 94107\n"
     ]
    },
    {
     "name": "stdout",
     "output_type": "stream",
     "text": [
      "94133 95113 2.20261187215 94107\n"
     ]
    },
    {
     "name": "stdout",
     "output_type": "stream",
     "text": [
      "94111 95113 1.40276982853 94107\n"
     ]
    },
    {
     "name": "stdout",
     "output_type": "stream",
     "text": [
      "94109 95113 2.95810620017 94107\n"
     ]
    },
    {
     "name": "stdout",
     "output_type": "stream",
     "text": [
      "94102 95113 1.57853241827 94107\n"
     ]
    },
    {
     "name": "stdout",
     "output_type": "stream",
     "text": [
      "94306 95113 6.1705619585 94041\n"
     ]
    },
    {
     "name": "stdout",
     "output_type": "stream",
     "text": [
      "94301 95113 0.0 94301\n"
     ]
    },
    {
     "name": "stdout",
     "output_type": "stream",
     "text": [
      "94040 95113 1.00891390089 94041\n"
     ]
    },
    {
     "name": "stdout",
     "output_type": "stream",
     "text": [
      "94041 95113 0.0 94041\n"
     ]
    },
    {
     "name": "stdout",
     "output_type": "stream",
     "text": [
      "94063 95113 0.0 94063\n"
     ]
    },
    {
     "name": "stdout",
     "output_type": "stream",
     "text": [
      "95112 95113 0.649942724697 95113\n"
     ]
    },
    {
     "name": "stdout",
     "output_type": "stream",
     "text": [
      "95113 95113 0.0 95113\n"
     ]
    },
    {
     "name": "stdout",
     "output_type": "stream",
     "text": [
      "95128 95113 1947.74837738 94301\n"
     ]
    },
    {
     "name": "stdout",
     "output_type": "stream",
     "text": [
      "95110 95113 0.748799354457 95113\n"
     ]
    }
   ],
   "source": [
    "from geopy import distance\n",
    "\n",
    "zcities = weather.zip.unique()\n",
    "zstations = stations.zip.unique()\n",
    "\n",
    "def zipdist(zip1,zip2):\n",
    "    #return distance between two zip codes\n",
    "    d = distance.distance\n",
    "    _, wa = geolocator.geocode(zip1,timeout=20)\n",
    "    _, pa = geolocator.geocode(zip2,timeout=20)\n",
    "    return (d(wa, pa)).kilometers\n",
    "\n",
    "def zcit_2_zst(sta,cit):\n",
    "    # return pandas Dataframe of correspondence between zip codes\n",
    "    # TODO: can be made faster\n",
    "    ziptab = {}\n",
    "    for i in sta:\n",
    "        mdist = 1e4\n",
    "        zm = 0\n",
    "        for j in cit:\n",
    "            dist = zipdist(i,j)\n",
    "            if dist < mdist:\n",
    "                mdist = dist\n",
    "                zm    = j\n",
    "        print i,j,mdist,zm\n",
    "        ziptab[str(i)] = zm\n",
    "    return DataFrame(data=ziptab,index=['zipc']).transpose()\n",
    "\n",
    "ziptab = zcit_2_zst(zstations,zcities)"
   ]
  },
  {
   "cell_type": "code",
   "execution_count": 0,
   "metadata": {
    "autoscroll": "json-false",
    "collapsed": false,
    "ein.tags": [
     "worksheet-0"
    ],
    "slideshow": {
     "slide_type": "-"
    }
   },
   "outputs": [],
   "source": [
    "result = s1.join(stations,on='station_id')\n",
    "res = result.ix[:,['Date','station_id','zip','time','bikes_available','docks_available']]\n",
    "#result = res.join(weather, on=['Date','zip'])\n"
   ]
  },
  {
   "cell_type": "code",
   "execution_count": 48,
   "metadata": {
    "autoscroll": "json-false",
    "collapsed": false,
    "ein.tags": [
     "worksheet-0"
    ],
    "slideshow": {
     "slide_type": "-"
    }
   },
   "outputs": [
    {
     "data": {
      "text/plain": [
       "        zipc\n",
       "94040  94041\n",
       "94041  94041\n",
       "94063  94063\n",
       "94102  94107\n",
       "94103  94107\n",
       "94104  94107\n",
       "94105  94107\n",
       "94107  94107\n",
       "94108  94107\n",
       "94109  94107\n",
       "94111  94107\n",
       "94118  94107\n",
       "94124  94107\n",
       "94133  94107\n",
       "94301  94301\n",
       "94306  94041\n",
       "95110  95113\n",
       "95112  95113\n",
       "95113  95113\n",
       "95126  94301\n",
       "95128  94301"
      ]
     },
     "execution_count": 48,
     "metadata": {},
     "output_type": "execute_result"
    }
   ],
   "source": [
    "d = {'col1': 1, 'col2': 2}\n",
    "\n"
   ]
  },
  {
   "cell_type": "code",
   "execution_count": 20,
   "metadata": {
    "autoscroll": "json-false",
    "collapsed": false,
    "ein.tags": [
     "worksheet-0"
    ],
    "slideshow": {
     "slide_type": "-"
    }
   },
   "outputs": [
    {
     "data": {
      "text/plain": [
       "array([95110, 95128, 95113, 95112, 94063, 94041, 94040, 94301, 94306,\n",
       "       94102, 94109, 94111, 94133, 94108, 94105, 94107, 94103, 94118,\n",
       "       94124, 94104, 95126])"
      ]
     },
     "execution_count": 20,
     "metadata": {},
     "output_type": "execute_result"
    }
   ],
   "source": [
    "zstations"
   ]
  },
  {
   "cell_type": "code",
   "execution_count": 10,
   "metadata": {
    "autoscroll": "json-false",
    "collapsed": false,
    "ein.tags": [
     "worksheet-0"
    ],
    "slideshow": {
     "slide_type": "-"
    }
   },
   "outputs": [
    {
     "data": {
      "text/plain": [
       "array([95110, 95128, 95113, 95112, 94063, 94041, 94040, 94301, 94306,\n",
       "       94102, 94109, 94111, 94133, 94108, 94105, 94107, 94103, 94118,\n",
       "       94124, 94104, 95126])"
      ]
     },
     "execution_count": 10,
     "metadata": {},
     "output_type": "execute_result"
    }
   ],
   "source": [
    "stations.zip.unique()"
   ]
  },
  {
   "cell_type": "code",
   "execution_count": 11,
   "metadata": {
    "autoscroll": "json-false",
    "collapsed": false,
    "ein.tags": [
     "worksheet-0"
    ],
    "slideshow": {
     "slide_type": "-"
    }
   },
   "outputs": [
    {
     "name": "stdout",
     "output_type": "stream",
     "text": [
      "33.3773804556\n"
     ]
    }
   ],
   "source": [
    "\n",
    "d = distance.distance\n",
    "_, wa = geolocator.geocode('94063')\n",
    "_, pa = geolocator.geocode('95113')\n",
    "print((d(wa, pa)).kilometers)\n"
   ]
  },
  {
   "cell_type": "code",
   "execution_count": 188,
   "metadata": {
    "autoscroll": "json-false",
    "collapsed": false,
    "ein.tags": [
     "worksheet-0"
    ],
    "slideshow": {
     "slide_type": "-"
    }
   },
   "outputs": [
    {
     "ename": "KeyError",
     "evalue": "'Date'",
     "output_type": "error",
     "traceback": [
      "\u001b[0;31m---------------------------------------------------------------------------\u001b[0m",
      "\u001b[0;31mKeyError\u001b[0m                                  Traceback (most recent call last)",
      "\u001b[0;32m<ipython-input-188-e40d7ed56a6e>\u001b[0m in \u001b[0;36m<module>\u001b[0;34m()\u001b[0m\n\u001b[0;32m----> 1\u001b[0;31m \u001b[0mresult\u001b[0m \u001b[0;34m=\u001b[0m \u001b[0ms1\u001b[0m\u001b[0;34m.\u001b[0m\u001b[0mjoin\u001b[0m\u001b[0;34m(\u001b[0m\u001b[0ms2\u001b[0m\u001b[0;34m,\u001b[0m \u001b[0mon\u001b[0m\u001b[0;34m=\u001b[0m\u001b[0;34m'Date'\u001b[0m\u001b[0;34m)\u001b[0m\u001b[0;34m\u001b[0m\u001b[0m\n\u001b[0m\u001b[1;32m      2\u001b[0m \u001b[0mresult\u001b[0m\u001b[0;34m\u001b[0m\u001b[0m\n",
      "\u001b[0;32m/usr/local/lib/python2.7/dist-packages/pandas/core/frame.pyc\u001b[0m in \u001b[0;36mjoin\u001b[0;34m(self, other, on, how, lsuffix, rsuffix, sort)\u001b[0m\n\u001b[1;32m   4553\u001b[0m         \u001b[0;31m# For SparseDataFrame's benefit\u001b[0m\u001b[0;34m\u001b[0m\u001b[0;34m\u001b[0m\u001b[0m\n\u001b[1;32m   4554\u001b[0m         return self._join_compat(other, on=on, how=how, lsuffix=lsuffix,\n\u001b[0;32m-> 4555\u001b[0;31m                                  rsuffix=rsuffix, sort=sort)\n\u001b[0m\u001b[1;32m   4556\u001b[0m \u001b[0;34m\u001b[0m\u001b[0m\n\u001b[1;32m   4557\u001b[0m     def _join_compat(self, other, on=None, how='left', lsuffix='', rsuffix='',\n",
      "\u001b[0;32m/usr/local/lib/python2.7/dist-packages/pandas/core/frame.pyc\u001b[0m in \u001b[0;36m_join_compat\u001b[0;34m(self, other, on, how, lsuffix, rsuffix, sort)\u001b[0m\n\u001b[1;32m   4567\u001b[0m             return merge(self, other, left_on=on, how=how,\n\u001b[1;32m   4568\u001b[0m                          \u001b[0mleft_index\u001b[0m\u001b[0;34m=\u001b[0m\u001b[0mon\u001b[0m \u001b[0;32mis\u001b[0m \u001b[0mNone\u001b[0m\u001b[0;34m,\u001b[0m \u001b[0mright_index\u001b[0m\u001b[0;34m=\u001b[0m\u001b[0mTrue\u001b[0m\u001b[0;34m,\u001b[0m\u001b[0;34m\u001b[0m\u001b[0m\n\u001b[0;32m-> 4569\u001b[0;31m                          suffixes=(lsuffix, rsuffix), sort=sort)\n\u001b[0m\u001b[1;32m   4570\u001b[0m         \u001b[0;32melse\u001b[0m\u001b[0;34m:\u001b[0m\u001b[0;34m\u001b[0m\u001b[0m\n\u001b[1;32m   4571\u001b[0m             \u001b[0;32mif\u001b[0m \u001b[0mon\u001b[0m \u001b[0;32mis\u001b[0m \u001b[0;32mnot\u001b[0m \u001b[0mNone\u001b[0m\u001b[0;34m:\u001b[0m\u001b[0;34m\u001b[0m\u001b[0m\n",
      "\u001b[0;32m/usr/local/lib/python2.7/dist-packages/pandas/tools/merge.pyc\u001b[0m in \u001b[0;36mmerge\u001b[0;34m(left, right, how, on, left_on, right_on, left_index, right_index, sort, suffixes, copy, indicator)\u001b[0m\n\u001b[1;32m     59\u001b[0m                          \u001b[0mright_on\u001b[0m\u001b[0;34m=\u001b[0m\u001b[0mright_on\u001b[0m\u001b[0;34m,\u001b[0m \u001b[0mleft_index\u001b[0m\u001b[0;34m=\u001b[0m\u001b[0mleft_index\u001b[0m\u001b[0;34m,\u001b[0m\u001b[0;34m\u001b[0m\u001b[0m\n\u001b[1;32m     60\u001b[0m                          \u001b[0mright_index\u001b[0m\u001b[0;34m=\u001b[0m\u001b[0mright_index\u001b[0m\u001b[0;34m,\u001b[0m \u001b[0msort\u001b[0m\u001b[0;34m=\u001b[0m\u001b[0msort\u001b[0m\u001b[0;34m,\u001b[0m \u001b[0msuffixes\u001b[0m\u001b[0;34m=\u001b[0m\u001b[0msuffixes\u001b[0m\u001b[0;34m,\u001b[0m\u001b[0;34m\u001b[0m\u001b[0m\n\u001b[0;32m---> 61\u001b[0;31m                          copy=copy, indicator=indicator)\n\u001b[0m\u001b[1;32m     62\u001b[0m     \u001b[0;32mreturn\u001b[0m \u001b[0mop\u001b[0m\u001b[0;34m.\u001b[0m\u001b[0mget_result\u001b[0m\u001b[0;34m(\u001b[0m\u001b[0;34m)\u001b[0m\u001b[0;34m\u001b[0m\u001b[0m\n\u001b[1;32m     63\u001b[0m \u001b[0;32mif\u001b[0m \u001b[0m__debug__\u001b[0m\u001b[0;34m:\u001b[0m\u001b[0;34m\u001b[0m\u001b[0m\n",
      "\u001b[0;32m/usr/local/lib/python2.7/dist-packages/pandas/tools/merge.pyc\u001b[0m in \u001b[0;36m__init__\u001b[0;34m(self, left, right, how, on, left_on, right_on, axis, left_index, right_index, sort, suffixes, copy, indicator)\u001b[0m\n\u001b[1;32m    541\u001b[0m         (self.left_join_keys,\n\u001b[1;32m    542\u001b[0m          \u001b[0mself\u001b[0m\u001b[0;34m.\u001b[0m\u001b[0mright_join_keys\u001b[0m\u001b[0;34m,\u001b[0m\u001b[0;34m\u001b[0m\u001b[0m\n\u001b[0;32m--> 543\u001b[0;31m          self.join_names) = self._get_merge_keys()\n\u001b[0m\u001b[1;32m    544\u001b[0m \u001b[0;34m\u001b[0m\u001b[0m\n\u001b[1;32m    545\u001b[0m     \u001b[0;32mdef\u001b[0m \u001b[0mget_result\u001b[0m\u001b[0;34m(\u001b[0m\u001b[0mself\u001b[0m\u001b[0;34m)\u001b[0m\u001b[0;34m:\u001b[0m\u001b[0;34m\u001b[0m\u001b[0m\n",
      "\u001b[0;32m/usr/local/lib/python2.7/dist-packages/pandas/tools/merge.pyc\u001b[0m in \u001b[0;36m_get_merge_keys\u001b[0;34m(self)\u001b[0m\n\u001b[1;32m    833\u001b[0m                     \u001b[0mjoin_names\u001b[0m\u001b[0;34m.\u001b[0m\u001b[0mappend\u001b[0m\u001b[0;34m(\u001b[0m\u001b[0mNone\u001b[0m\u001b[0;34m)\u001b[0m\u001b[0;34m\u001b[0m\u001b[0m\n\u001b[1;32m    834\u001b[0m                 \u001b[0;32melse\u001b[0m\u001b[0;34m:\u001b[0m\u001b[0;34m\u001b[0m\u001b[0m\n\u001b[0;32m--> 835\u001b[0;31m                     \u001b[0mleft_keys\u001b[0m\u001b[0;34m.\u001b[0m\u001b[0mappend\u001b[0m\u001b[0;34m(\u001b[0m\u001b[0mleft\u001b[0m\u001b[0;34m[\u001b[0m\u001b[0mk\u001b[0m\u001b[0;34m]\u001b[0m\u001b[0;34m.\u001b[0m\u001b[0m_values\u001b[0m\u001b[0;34m)\u001b[0m\u001b[0;34m\u001b[0m\u001b[0m\n\u001b[0m\u001b[1;32m    836\u001b[0m                     \u001b[0mjoin_names\u001b[0m\u001b[0;34m.\u001b[0m\u001b[0mappend\u001b[0m\u001b[0;34m(\u001b[0m\u001b[0mk\u001b[0m\u001b[0;34m)\u001b[0m\u001b[0;34m\u001b[0m\u001b[0m\n\u001b[1;32m    837\u001b[0m             \u001b[0;32mif\u001b[0m \u001b[0misinstance\u001b[0m\u001b[0;34m(\u001b[0m\u001b[0mself\u001b[0m\u001b[0;34m.\u001b[0m\u001b[0mright\u001b[0m\u001b[0;34m.\u001b[0m\u001b[0mindex\u001b[0m\u001b[0;34m,\u001b[0m \u001b[0mMultiIndex\u001b[0m\u001b[0;34m)\u001b[0m\u001b[0;34m:\u001b[0m\u001b[0;34m\u001b[0m\u001b[0m\n",
      "\u001b[0;32m/usr/local/lib/python2.7/dist-packages/pandas/core/frame.pyc\u001b[0m in \u001b[0;36m__getitem__\u001b[0;34m(self, key)\u001b[0m\n\u001b[1;32m   2057\u001b[0m             \u001b[0;32mreturn\u001b[0m \u001b[0mself\u001b[0m\u001b[0;34m.\u001b[0m\u001b[0m_getitem_multilevel\u001b[0m\u001b[0;34m(\u001b[0m\u001b[0mkey\u001b[0m\u001b[0;34m)\u001b[0m\u001b[0;34m\u001b[0m\u001b[0m\n\u001b[1;32m   2058\u001b[0m         \u001b[0;32melse\u001b[0m\u001b[0;34m:\u001b[0m\u001b[0;34m\u001b[0m\u001b[0m\n\u001b[0;32m-> 2059\u001b[0;31m             \u001b[0;32mreturn\u001b[0m \u001b[0mself\u001b[0m\u001b[0;34m.\u001b[0m\u001b[0m_getitem_column\u001b[0m\u001b[0;34m(\u001b[0m\u001b[0mkey\u001b[0m\u001b[0;34m)\u001b[0m\u001b[0;34m\u001b[0m\u001b[0m\n\u001b[0m\u001b[1;32m   2060\u001b[0m \u001b[0;34m\u001b[0m\u001b[0m\n\u001b[1;32m   2061\u001b[0m     \u001b[0;32mdef\u001b[0m \u001b[0m_getitem_column\u001b[0m\u001b[0;34m(\u001b[0m\u001b[0mself\u001b[0m\u001b[0;34m,\u001b[0m \u001b[0mkey\u001b[0m\u001b[0;34m)\u001b[0m\u001b[0;34m:\u001b[0m\u001b[0;34m\u001b[0m\u001b[0m\n",
      "\u001b[0;32m/usr/local/lib/python2.7/dist-packages/pandas/core/frame.pyc\u001b[0m in \u001b[0;36m_getitem_column\u001b[0;34m(self, key)\u001b[0m\n\u001b[1;32m   2064\u001b[0m         \u001b[0;31m# get column\u001b[0m\u001b[0;34m\u001b[0m\u001b[0;34m\u001b[0m\u001b[0m\n\u001b[1;32m   2065\u001b[0m         \u001b[0;32mif\u001b[0m \u001b[0mself\u001b[0m\u001b[0;34m.\u001b[0m\u001b[0mcolumns\u001b[0m\u001b[0;34m.\u001b[0m\u001b[0mis_unique\u001b[0m\u001b[0;34m:\u001b[0m\u001b[0;34m\u001b[0m\u001b[0m\n\u001b[0;32m-> 2066\u001b[0;31m             \u001b[0;32mreturn\u001b[0m \u001b[0mself\u001b[0m\u001b[0;34m.\u001b[0m\u001b[0m_get_item_cache\u001b[0m\u001b[0;34m(\u001b[0m\u001b[0mkey\u001b[0m\u001b[0;34m)\u001b[0m\u001b[0;34m\u001b[0m\u001b[0m\n\u001b[0m\u001b[1;32m   2067\u001b[0m \u001b[0;34m\u001b[0m\u001b[0m\n\u001b[1;32m   2068\u001b[0m         \u001b[0;31m# duplicate columns & possible reduce dimensionality\u001b[0m\u001b[0;34m\u001b[0m\u001b[0;34m\u001b[0m\u001b[0m\n",
      "\u001b[0;32m/usr/local/lib/python2.7/dist-packages/pandas/core/generic.pyc\u001b[0m in \u001b[0;36m_get_item_cache\u001b[0;34m(self, item)\u001b[0m\n\u001b[1;32m   1384\u001b[0m         \u001b[0mres\u001b[0m \u001b[0;34m=\u001b[0m \u001b[0mcache\u001b[0m\u001b[0;34m.\u001b[0m\u001b[0mget\u001b[0m\u001b[0;34m(\u001b[0m\u001b[0mitem\u001b[0m\u001b[0;34m)\u001b[0m\u001b[0;34m\u001b[0m\u001b[0m\n\u001b[1;32m   1385\u001b[0m         \u001b[0;32mif\u001b[0m \u001b[0mres\u001b[0m \u001b[0;32mis\u001b[0m \u001b[0mNone\u001b[0m\u001b[0;34m:\u001b[0m\u001b[0;34m\u001b[0m\u001b[0m\n\u001b[0;32m-> 1386\u001b[0;31m             \u001b[0mvalues\u001b[0m \u001b[0;34m=\u001b[0m \u001b[0mself\u001b[0m\u001b[0;34m.\u001b[0m\u001b[0m_data\u001b[0m\u001b[0;34m.\u001b[0m\u001b[0mget\u001b[0m\u001b[0;34m(\u001b[0m\u001b[0mitem\u001b[0m\u001b[0;34m)\u001b[0m\u001b[0;34m\u001b[0m\u001b[0m\n\u001b[0m\u001b[1;32m   1387\u001b[0m             \u001b[0mres\u001b[0m \u001b[0;34m=\u001b[0m \u001b[0mself\u001b[0m\u001b[0;34m.\u001b[0m\u001b[0m_box_item_values\u001b[0m\u001b[0;34m(\u001b[0m\u001b[0mitem\u001b[0m\u001b[0;34m,\u001b[0m \u001b[0mvalues\u001b[0m\u001b[0;34m)\u001b[0m\u001b[0;34m\u001b[0m\u001b[0m\n\u001b[1;32m   1388\u001b[0m             \u001b[0mcache\u001b[0m\u001b[0;34m[\u001b[0m\u001b[0mitem\u001b[0m\u001b[0;34m]\u001b[0m \u001b[0;34m=\u001b[0m \u001b[0mres\u001b[0m\u001b[0;34m\u001b[0m\u001b[0m\n",
      "\u001b[0;32m/usr/local/lib/python2.7/dist-packages/pandas/core/internals.pyc\u001b[0m in \u001b[0;36mget\u001b[0;34m(self, item, fastpath)\u001b[0m\n\u001b[1;32m   3541\u001b[0m \u001b[0;34m\u001b[0m\u001b[0m\n\u001b[1;32m   3542\u001b[0m             \u001b[0;32mif\u001b[0m \u001b[0;32mnot\u001b[0m \u001b[0misnull\u001b[0m\u001b[0;34m(\u001b[0m\u001b[0mitem\u001b[0m\u001b[0;34m)\u001b[0m\u001b[0;34m:\u001b[0m\u001b[0;34m\u001b[0m\u001b[0m\n\u001b[0;32m-> 3543\u001b[0;31m                 \u001b[0mloc\u001b[0m \u001b[0;34m=\u001b[0m \u001b[0mself\u001b[0m\u001b[0;34m.\u001b[0m\u001b[0mitems\u001b[0m\u001b[0;34m.\u001b[0m\u001b[0mget_loc\u001b[0m\u001b[0;34m(\u001b[0m\u001b[0mitem\u001b[0m\u001b[0;34m)\u001b[0m\u001b[0;34m\u001b[0m\u001b[0m\n\u001b[0m\u001b[1;32m   3544\u001b[0m             \u001b[0;32melse\u001b[0m\u001b[0;34m:\u001b[0m\u001b[0;34m\u001b[0m\u001b[0m\n\u001b[1;32m   3545\u001b[0m                 \u001b[0mindexer\u001b[0m \u001b[0;34m=\u001b[0m \u001b[0mnp\u001b[0m\u001b[0;34m.\u001b[0m\u001b[0marange\u001b[0m\u001b[0;34m(\u001b[0m\u001b[0mlen\u001b[0m\u001b[0;34m(\u001b[0m\u001b[0mself\u001b[0m\u001b[0;34m.\u001b[0m\u001b[0mitems\u001b[0m\u001b[0;34m)\u001b[0m\u001b[0;34m)\u001b[0m\u001b[0;34m[\u001b[0m\u001b[0misnull\u001b[0m\u001b[0;34m(\u001b[0m\u001b[0mself\u001b[0m\u001b[0;34m.\u001b[0m\u001b[0mitems\u001b[0m\u001b[0;34m)\u001b[0m\u001b[0;34m]\u001b[0m\u001b[0;34m\u001b[0m\u001b[0m\n",
      "\u001b[0;32m/usr/local/lib/python2.7/dist-packages/pandas/indexes/base.pyc\u001b[0m in \u001b[0;36mget_loc\u001b[0;34m(self, key, method, tolerance)\u001b[0m\n\u001b[1;32m   2134\u001b[0m                 \u001b[0;32mreturn\u001b[0m \u001b[0mself\u001b[0m\u001b[0;34m.\u001b[0m\u001b[0m_engine\u001b[0m\u001b[0;34m.\u001b[0m\u001b[0mget_loc\u001b[0m\u001b[0;34m(\u001b[0m\u001b[0mkey\u001b[0m\u001b[0;34m)\u001b[0m\u001b[0;34m\u001b[0m\u001b[0m\n\u001b[1;32m   2135\u001b[0m             \u001b[0;32mexcept\u001b[0m \u001b[0mKeyError\u001b[0m\u001b[0;34m:\u001b[0m\u001b[0;34m\u001b[0m\u001b[0m\n\u001b[0;32m-> 2136\u001b[0;31m                 \u001b[0;32mreturn\u001b[0m \u001b[0mself\u001b[0m\u001b[0;34m.\u001b[0m\u001b[0m_engine\u001b[0m\u001b[0;34m.\u001b[0m\u001b[0mget_loc\u001b[0m\u001b[0;34m(\u001b[0m\u001b[0mself\u001b[0m\u001b[0;34m.\u001b[0m\u001b[0m_maybe_cast_indexer\u001b[0m\u001b[0;34m(\u001b[0m\u001b[0mkey\u001b[0m\u001b[0;34m)\u001b[0m\u001b[0;34m)\u001b[0m\u001b[0;34m\u001b[0m\u001b[0m\n\u001b[0m\u001b[1;32m   2137\u001b[0m \u001b[0;34m\u001b[0m\u001b[0m\n\u001b[1;32m   2138\u001b[0m         \u001b[0mindexer\u001b[0m \u001b[0;34m=\u001b[0m \u001b[0mself\u001b[0m\u001b[0;34m.\u001b[0m\u001b[0mget_indexer\u001b[0m\u001b[0;34m(\u001b[0m\u001b[0;34m[\u001b[0m\u001b[0mkey\u001b[0m\u001b[0;34m]\u001b[0m\u001b[0;34m,\u001b[0m \u001b[0mmethod\u001b[0m\u001b[0;34m=\u001b[0m\u001b[0mmethod\u001b[0m\u001b[0;34m,\u001b[0m \u001b[0mtolerance\u001b[0m\u001b[0;34m=\u001b[0m\u001b[0mtolerance\u001b[0m\u001b[0;34m)\u001b[0m\u001b[0;34m\u001b[0m\u001b[0m\n",
      "\u001b[0;32mpandas/index.pyx\u001b[0m in \u001b[0;36mpandas.index.IndexEngine.get_loc (pandas/index.c:4433)\u001b[0;34m()\u001b[0m\n",
      "\u001b[0;32mpandas/index.pyx\u001b[0m in \u001b[0;36mpandas.index.IndexEngine.get_loc (pandas/index.c:4279)\u001b[0;34m()\u001b[0m\n",
      "\u001b[0;32mpandas/src/hashtable_class_helper.pxi\u001b[0m in \u001b[0;36mpandas.hashtable.PyObjectHashTable.get_item (pandas/hashtable.c:13742)\u001b[0;34m()\u001b[0m\n",
      "\u001b[0;32mpandas/src/hashtable_class_helper.pxi\u001b[0m in \u001b[0;36mpandas.hashtable.PyObjectHashTable.get_item (pandas/hashtable.c:13696)\u001b[0;34m()\u001b[0m\n",
      "\u001b[0;31mKeyError\u001b[0m: 'Date'"
     ]
    }
   ],
   "source": [
    "result = s1.join(s2, on='Date')\n",
    "result\n"
   ]
  },
  {
   "cell_type": "code",
   "execution_count": 190,
   "metadata": {
    "autoscroll": "json-false",
    "collapsed": false,
    "ein.tags": [
     "worksheet-0"
    ],
    "slideshow": {
     "slide_type": "-"
    }
   },
   "outputs": [
    {
     "name": "stdout",
     "output_type": "stream",
     "text": [
      "Trip ID,Duration,Start Date,Start Station,Start Terminal,End Date,End Station,End Terminal,Bike #,Subscription Type,Zip Code\r",
      "\r\n",
      "4576,63,8/29/2013 14:13,South Van Ness at Market,66,8/29/2013 14:14,South Van Ness at Market,66,520,Subscriber,94127\r",
      "\r\n",
      "4607,70,8/29/2013 14:42,San Jose City Hall,10,8/29/2013 14:43,San Jose City Hall,10,661,Subscriber,95138\r",
      "\r\n",
      "4130,71,8/29/2013 10:16,Mountain View City Hall,27,8/29/2013 10:17,Mountain View City Hall,27,48,Subscriber,97214\r",
      "\r\n",
      "4251,77,8/29/2013 11:29,San Jose City Hall,10,8/29/2013 11:30,San Jose City Hall,10,26,Subscriber,95060\r",
      "\r\n",
      "4299,83,8/29/2013 12:02,South Van Ness at Market,66,8/29/2013 12:04,Market at 10th,67,319,Subscriber,94103\r",
      "\r\n",
      "4927,103,8/29/2013 18:54,Golden Gate at Polk,59,8/29/2013 18:56,Golden Gate at Polk,59,527,Subscriber,94109\r",
      "\r\n",
      "4500,109,8/29/2013 13:25,Santa Clara at Almaden,4,8/29/2013 13:27,Adobe on Almaden,5,679,Subscriber,95112\r",
      "\r\n",
      "4563,111,8/29/2013 14:02,San Salvador at 1st,8,8/29/2013 14:04,San Salvador at 1st,8,687,Subscriber,95112\r",
      "\r\n",
      "4760,113,8/29/2013 17:01,South Van Ness at Market,66,8/29/2013 17:03,South Van Ness at Market,66,553,Subscriber,94103\r",
      "\r\n"
     ]
    }
   ],
   "source": [
    "!head -n 10 201402_babs_open_data/201402_trip_data.csv"
   ]
  }
 ],
 "metadata": {},
 "nbformat": 4,
 "nbformat_minor": 2
}
