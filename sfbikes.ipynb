{
 "cells": [
  {
   "cell_type": "code",
   "execution_count": 22,
   "metadata": {
    "autoscroll": "json-false",
    "collapsed": false,
    "ein.tags": [
     "worksheet-0"
    ],
    "slideshow": {
     "slide_type": "-"
    }
   },
   "outputs": [
    {
     "name": "stdout",
     "output_type": "stream",
     "text": [
      "0.19.2\n"
     ]
    }
   ],
   "source": [
    "from pandas import *\n",
    "import pandas\n",
    "print pandas.__version__\n",
    "import numpy as np\n",
    "import matplotlib.pyplot as plt\n",
    "import matplotlib\n",
    "from datetime import datetime\n",
    "from geopy.geocoders import Nominatim\n",
    "\n",
    "import re\n",
    "\n",
    "geolocator = Nominatim()\n",
    "\n",
    "%matplotlib inline\n",
    "matplotlib.style.use('ggplot')\n",
    "\n",
    "\n"
   ]
  },
  {
   "cell_type": "markdown",
   "metadata": {
    "ein.tags": [
     "worksheet-0"
    ],
    "slideshow": {
     "slide_type": "-"
    }
   },
   "source": [
    "## Load datas\n"
   ]
  },
  {
   "cell_type": "code",
   "execution_count": 7,
   "metadata": {
    "autoscroll": "json-false",
    "collapsed": false,
    "ein.tags": [
     "worksheet-0"
    ],
    "slideshow": {
     "slide_type": "-"
    }
   },
   "outputs": [],
   "source": [
    "weather = read_csv('201402_babs_open_data/201402_weather_data.csv',index_col=0,parse_dates=True)\n"
   ]
  },
  {
   "cell_type": "code",
   "execution_count": 8,
   "metadata": {
    "autoscroll": "json-false",
    "collapsed": false,
    "ein.tags": [
     "worksheet-0"
    ],
    "slideshow": {
     "slide_type": "-"
    }
   },
   "outputs": [],
   "source": [
    "#status = read_csv('201402_babs_open_data/201402_status_data.csv',index_col=0,parse_dates=True)\n"
   ]
  },
  {
   "cell_type": "code",
   "execution_count": 9,
   "metadata": {
    "autoscroll": "json-false",
    "collapsed": false,
    "ein.tags": [
     "worksheet-0"
    ],
    "slideshow": {
     "slide_type": "-"
    }
   },
   "outputs": [],
   "source": [
    "stations = read_csv('201402_babs_open_data/201402_station_data.csv',index_col=0,parse_dates=True)\n"
   ]
  },
  {
   "cell_type": "code",
   "execution_count": 10,
   "metadata": {
    "autoscroll": "json-false",
    "collapsed": false,
    "ein.tags": [
     "worksheet-0"
    ],
    "slideshow": {
     "slide_type": "-"
    }
   },
   "outputs": [],
   "source": [
    "trips = read_csv('201402_babs_open_data/201402_trip_data.csv',index_col=0,parse_dates=True)"
   ]
  },
  {
   "cell_type": "code",
   "execution_count": 19,
   "metadata": {
    "autoscroll": "json-false",
    "collapsed": false,
    "ein.tags": [
     "worksheet-0"
    ],
    "slideshow": {
     "slide_type": "-"
    }
   },
   "outputs": [],
   "source": [
    "# separate date and time to two different columns\n",
    "def take_time(dt):\n",
    "    d=datetime.strptime(dt, '%m/%d/%Y %H:%M')\n",
    "    return d.strftime('%H:%M')\n",
    "    \n",
    "def take_date(dt):\n",
    "    d=datetime.strptime(dt, '%m/%d/%Y %H:%M')\n",
    "    return d.strftime('%Y-%m-%d')\n"
   ]
  },
  {
   "cell_type": "code",
   "execution_count": 0,
   "metadata": {
    "autoscroll": "json-false",
    "collapsed": false,
    "ein.tags": [
     "worksheet-0"
    ],
    "slideshow": {
     "slide_type": "-"
    }
   },
   "outputs": [],
   "source": [
    "# status.loc[:,\"Date\"]=status.time.apply(take_date)\n",
    "# status.loc[:,\"time\"]=status.time.apply(take_time)\n",
    "# status.Date=status.Date.apply(to_datetime)\n",
    "# status.time=status.time.apply(to_datetime)\n"
   ]
  },
  {
   "cell_type": "code",
   "execution_count": 60,
   "metadata": {
    "autoscroll": "json-false",
    "collapsed": false,
    "ein.tags": [
     "worksheet-0"
    ],
    "slideshow": {
     "slide_type": "-"
    }
   },
   "outputs": [],
   "source": [
    "trips_start = trips.loc[:,['Start Date','Start Terminal']]\n",
    "trips_start.loc[:,\"Date\"] = trips_start.ix[:,'Start Date'].apply(take_date)\n",
    "#trips_start.loc[:,\"time\"] = trips_start.ix[:,'Start Date'].apply(take_time)\n",
    "trips_start.Date = trips_start.Date.apply(to_datetime)\n"
   ]
  },
  {
   "cell_type": "code",
   "execution_count": 31,
   "metadata": {
    "autoscroll": "json-false",
    "collapsed": false,
    "ein.tags": [
     "worksheet-0"
    ],
    "slideshow": {
     "slide_type": "-"
    }
   },
   "outputs": [],
   "source": [
    "# Need internet connection to work!!\n",
    "# Transfer zip codes to coordinates.\n",
    "# Instead of apply function to all, it is faster\n",
    "# to apply to unique values of zip the merge\n",
    "zcit = Series(weather.zip.unique())\n",
    "\n",
    "def zip2coor(x):\n",
    "    loca = geolocator.geocode('CA:'+str(x),timeout=20) \n",
    "    # as we are in California added CA:. otherwise work not in all cases\n",
    "    return Series({'lat':loca.latitude,'long':loca.longitude, 'zip':int(x)})\n",
    "\n",
    "zipcoor = zcit.apply(zip2coor)\n",
    "zipcoor.zip = zipcoor.zip.apply(int) #make zip int instead of float.\n",
    "a = weather.reset_index().merge(zipcoor, on='zip').set_index('Date') #add coordinates to weather"
   ]
  },
  {
   "cell_type": "code",
   "execution_count": 36,
   "metadata": {
    "autoscroll": "json-false",
    "collapsed": false,
    "ein.tags": [
     "worksheet-0"
    ],
    "slideshow": {
     "slide_type": "-"
    }
   },
   "outputs": [],
   "source": [
    "weather_small = a.loc[:,['Max_Temperature_F','Events','lat','long']]\n"
   ]
  },
  {
   "cell_type": "code",
   "execution_count": 44,
   "metadata": {
    "autoscroll": "json-false",
    "collapsed": false,
    "ein.tags": [
     "worksheet-0"
    ],
    "slideshow": {
     "slide_type": "-"
    }
   },
   "outputs": [],
   "source": [
    "weather_small = weather_small.rename(columns={\"lat\": \"lat_cit\", \"long\": \"long_cit\"})"
   ]
  },
  {
   "cell_type": "code",
   "execution_count": 50,
   "metadata": {
    "autoscroll": "json-false",
    "collapsed": false,
    "ein.tags": [
     "worksheet-0"
    ],
    "slideshow": {
     "slide_type": "-"
    }
   },
   "outputs": [],
   "source": [
    "# the function distance do not use Internet\n",
    "from geopy.distance import vincenty\n",
    "\n",
    "coorstat = stations.loc[:,['lat','long']]\n",
    "stations.loc[:,'st_id'] =stations.index\n",
    "\n",
    "def get_cit_coor(x):\n",
    "    c_stat = (x[0],x[1])\n",
    "    mdist=1000\n",
    "    for i in xrange(zipcoor.size):\n",
    "        c_city = (zipcoor.lat[0],zipcoor.long[0])\n",
    "        dist = vincenty(c_city, c_stat).kilometers\n",
    "        if dist < mdist:\n",
    "            mdist = dist\n",
    "            coor=c_city\n",
    "    return Series({'lat':x[0],'long':x[1],'lat_cit':coor[0],'long_cit':coor[1]})\n",
    "\n",
    "a = stations.ix[:,'lat':'long'].apply(get_cit_coor,axis=1)\n",
    "a = stations.merge(a,on=['lat','long'])\n"
   ]
  },
  {
   "cell_type": "code",
   "execution_count": 53,
   "metadata": {
    "autoscroll": "json-false",
    "collapsed": false,
    "ein.tags": [
     "worksheet-0"
    ],
    "slideshow": {
     "slide_type": "-"
    }
   },
   "outputs": [],
   "source": [
    "stations_small=a.loc[:,['lat','long','lat_cit','long_cit','landmark','st_id']]\n"
   ]
  },
  {
   "cell_type": "code",
   "execution_count": 68,
   "metadata": {
    "autoscroll": "json-false",
    "collapsed": false,
    "ein.tags": [
     "worksheet-0"
    ],
    "slideshow": {
     "slide_type": "-"
    }
   },
   "outputs": [],
   "source": [
    "trips_start = trips_start.rename(columns={\"Start Terminal\": \"st_id\"})"
   ]
  },
  {
   "cell_type": "code",
   "execution_count": 77,
   "metadata": {
    "autoscroll": "json-false",
    "collapsed": false,
    "ein.tags": [
     "worksheet-0"
    ],
    "slideshow": {
     "slide_type": "-"
    }
   },
   "outputs": [],
   "source": [
    "result_small = trips_start.merge(stations_small, on='st_id')"
   ]
  },
  {
   "cell_type": "code",
   "execution_count": 86,
   "metadata": {
    "autoscroll": "json-false",
    "collapsed": false,
    "ein.tags": [
     "worksheet-0"
    ],
    "slideshow": {
     "slide_type": "-"
    }
   },
   "outputs": [],
   "source": [
    "weather_small.ix[:,'Date']=weather_small.index"
   ]
  },
  {
   "cell_type": "code",
   "execution_count": 88,
   "metadata": {
    "autoscroll": "json-false",
    "collapsed": false,
    "ein.tags": [
     "worksheet-0"
    ],
    "slideshow": {
     "slide_type": "-"
    }
   },
   "outputs": [],
   "source": [
    "result_small = result_small.merge(weather_small, on=['Date','lat_cit','long_cit'])"
   ]
  },
  {
   "cell_type": "code",
   "execution_count": 94,
   "metadata": {
    "autoscroll": "json-false",
    "collapsed": false,
    "ein.tags": [
     "worksheet-0"
    ],
    "slideshow": {
     "slide_type": "-"
    }
   },
   "outputs": [
    {
     "name": "stderr",
     "output_type": "stream",
     "text": [
      "/usr/local/lib/python2.7/dist-packages/ipykernel/__main__.py:1: SettingWithCopyWarning: \n",
      "A value is trying to be set on a copy of a slice from a DataFrame\n",
      "\n",
      "See the caveats in the documentation: http://pandas.pydata.org/pandas-docs/stable/indexing.html#indexing-view-versus-copy\n",
      "  if __name__ == '__main__':\n"
     ]
    }
   ],
   "source": [
    "result_small.Events[result_small.Events=='rain'] = 'Rain'"
   ]
  },
  {
   "cell_type": "code",
   "execution_count": 102,
   "metadata": {
    "autoscroll": "json-false",
    "collapsed": false,
    "ein.tags": [
     "worksheet-0"
    ],
    "slideshow": {
     "slide_type": "-"
    }
   },
   "outputs": [
    {
     "name": "stderr",
     "output_type": "stream",
     "text": [
      "/usr/local/lib/python2.7/dist-packages/ipykernel/__main__.py:1: SettingWithCopyWarning: \n",
      "A value is trying to be set on a copy of a slice from a DataFrame\n",
      "\n",
      "See the caveats in the documentation: http://pandas.pydata.org/pandas-docs/stable/indexing.html#indexing-view-versus-copy\n",
      "  if __name__ == '__main__':\n"
     ]
    }
   ],
   "source": [
    "result_small.Events[isnull(result_small.Events)]='Sun'"
   ]
  },
  {
   "cell_type": "code",
   "execution_count": 109,
   "metadata": {
    "autoscroll": "json-false",
    "collapsed": false,
    "ein.tags": [
     "worksheet-0"
    ],
    "slideshow": {
     "slide_type": "-"
    }
   },
   "outputs": [],
   "source": [
    "result_small['day_of_week'] = result_small['Date'].dt.weekday_name"
   ]
  },
  {
   "cell_type": "code",
   "execution_count": 118,
   "metadata": {
    "autoscroll": "json-false",
    "collapsed": false,
    "ein.tags": [
     "worksheet-0"
    ],
    "slideshow": {
     "slide_type": "-"
    }
   },
   "outputs": [
    {
     "data": {
      "image/png": "[encoded data removed]",
      "text/plain": [
       "<matplotlib.figure.Figure at 0x7f3f5f978fd0>"
      ]
     },
     "metadata": {},
     "output_type": "display_data"
    },
    {
     "data": {
      "text/plain": [
       "<matplotlib.text.Text at 0x7f3f33ea2f90>"
      ]
     },
     "execution_count": 118,
     "metadata": {},
     "output_type": "execute_result"
    }
   ],
   "source": [
    "result_small.groupby('Date').size().plot()\n",
    "plt.ylabel(\"Total # of trips\")"
   ]
  },
  {
   "cell_type": "code",
   "execution_count": 119,
   "metadata": {
    "autoscroll": "json-false",
    "collapsed": false,
    "ein.tags": [
     "worksheet-0"
    ],
    "slideshow": {
     "slide_type": "-"
    }
   },
   "outputs": [
    {
     "data": {
      "image/png": "[encoded data removed]",
      "text/plain": [
       "<matplotlib.figure.Figure at 0x7f3f33ea2210>"
      ]
     },
     "metadata": {},
     "output_type": "display_data"
    },
    {
     "data": {
      "text/plain": [
       "<matplotlib.text.Text at 0x7f3f33ea2a10>"
      ]
     },
     "execution_count": 119,
     "metadata": {},
     "output_type": "execute_result"
    }
   ],
   "source": [
    "result_small.groupby('day_of_week',sort=False).size().plot('bar')\n",
    "plt.ylabel(\"Total # of trips\")"
   ]
  },
  {
   "cell_type": "code",
   "execution_count": 121,
   "metadata": {
    "autoscroll": "json-false",
    "collapsed": false,
    "ein.tags": [
     "worksheet-0"
    ],
    "slideshow": {
     "slide_type": "-"
    }
   },
   "outputs": [
    {
     "data": {
      "image/png": "[encoded data removed]",
      "text/plain": [
       "<matplotlib.figure.Figure at 0x7f3f31750a10>"
      ]
     },
     "metadata": {},
     "output_type": "display_data"
    },
    {
     "data": {
      "text/plain": [
       "<matplotlib.text.Text at 0x7f3f3173ab50>"
      ]
     },
     "execution_count": 121,
     "metadata": {},
     "output_type": "execute_result"
    }
   ],
   "source": [
    "result_small.groupby('landmark',sort=False).size().plot('bar')\n",
    "plt.ylabel(\"Total # of trips\")"
   ]
  },
  {
   "cell_type": "code",
   "execution_count": 0,
   "metadata": {
    "autoscroll": "json-false",
    "collapsed": false,
    "ein.tags": [
     "worksheet-0"
    ],
    "slideshow": {
     "slide_type": "-"
    }
   },
   "outputs": [],
   "source": [
    "\n",
    "# def coor2zip(x):\n",
    "#     loc  = geolocator.reverse(str(x[0])+\", \"+str(x[1]))\n",
    "#     zips=str(loc.raw['address']['postcode'])\n",
    "#     intzip=re.findall(r\"[0-9]{5}\", zips)\n",
    "#     return int(intzip[0])\n",
    "\n",
    "# stations.ix[:,'zip'] = stations.ix[:,'lat':'long'].apply(coor2zip,axis=1)"
   ]
  },
  {
   "cell_type": "code",
   "execution_count": 0,
   "metadata": {
    "autoscroll": "json-false",
    "collapsed": false,
    "ein.tags": [
     "worksheet-0"
    ],
    "slideshow": {
     "slide_type": "-"
    }
   },
   "outputs": [
    {
     "name": "stdout",
     "output_type": "stream",
     "text": [
      "95126 95113 1945.83298315 94301\n"
     ]
    },
    {
     "name": "stdout",
     "output_type": "stream",
     "text": [
      "94104 95113 0.37776864997 94107\n"
     ]
    },
    {
     "name": "stdout",
     "output_type": "stream",
     "text": [
      "94124 95113 7.37773835065 94107\n"
     ]
    },
    {
     "name": "stdout",
     "output_type": "stream",
     "text": [
      "94118 95113 4.87900920235 94107\n"
     ]
    },
    {
     "name": "stdout",
     "output_type": "stream",
     "text": [
      "94103 95113 1.32237174194 94107\n"
     ]
    },
    {
     "name": "stdout",
     "output_type": "stream",
     "text": [
      "94107 95113 0.0 94107\n"
     ]
    },
    {
     "name": "stdout",
     "output_type": "stream",
     "text": [
      "94105 95113 0.831962715078 94107\n"
     ]
    },
    {
     "name": "stdout",
     "output_type": "stream",
     "text": [
      "94108 95113 1.07739447787 94107\n"
     ]
    },
    {
     "name": "stdout",
     "output_type": "stream",
     "text": [
      "94133 95113 2.20261187215 94107\n"
     ]
    },
    {
     "name": "stdout",
     "output_type": "stream",
     "text": [
      "94111 95113 1.40276982853 94107\n"
     ]
    },
    {
     "name": "stdout",
     "output_type": "stream",
     "text": [
      "94109 95113 2.95810620017 94107\n"
     ]
    },
    {
     "name": "stdout",
     "output_type": "stream",
     "text": [
      "94102 95113 1.57853241827 94107\n"
     ]
    },
    {
     "name": "stdout",
     "output_type": "stream",
     "text": [
      "94306 95113 6.1705619585 94041\n"
     ]
    },
    {
     "name": "stdout",
     "output_type": "stream",
     "text": [
      "94301 95113 0.0 94301\n"
     ]
    },
    {
     "name": "stdout",
     "output_type": "stream",
     "text": [
      "94040 95113 1.00891390089 94041\n"
     ]
    },
    {
     "name": "stdout",
     "output_type": "stream",
     "text": [
      "94041 95113 0.0 94041\n"
     ]
    },
    {
     "name": "stdout",
     "output_type": "stream",
     "text": [
      "94063 95113 0.0 94063\n"
     ]
    },
    {
     "name": "stdout",
     "output_type": "stream",
     "text": [
      "95112 95113 0.649942724697 95113\n"
     ]
    },
    {
     "name": "stdout",
     "output_type": "stream",
     "text": [
      "95113 95113 0.0 95113\n"
     ]
    },
    {
     "name": "stdout",
     "output_type": "stream",
     "text": [
      "95128 95113 1947.74837738 94301\n"
     ]
    },
    {
     "name": "stdout",
     "output_type": "stream",
     "text": [
      "95110 95113 0.748799354457 95113\n"
     ]
    }
   ],
   "source": [
    "# from geopy import distance\n",
    "\n",
    "# zcities = weather.zip.unique()\n",
    "# zstations = stations.zip.unique()\n",
    "\n",
    "# def zipdist(zip1,zip2):\n",
    "#     #return distance between two zip codes\n",
    "#     d = distance.distance\n",
    "#     _, wa = geolocator.geocode(zip1,timeout=20)\n",
    "#     _, pa = geolocator.geocode(zip2,timeout=20)\n",
    "#     return (d(wa, pa)).kilometers\n",
    "\n",
    "# def zcit_2_zst(sta,cit):\n",
    "#     # return pandas Dataframe of correspondence between zip codes\n",
    "#     # TODO: can be made faster\n",
    "#     ziptab = {}\n",
    "#     for i in sta:\n",
    "#         mdist = 1e4\n",
    "#         zm = 0\n",
    "#         for j in cit:\n",
    "#             dist = zipdist(i,j)\n",
    "#             if dist < mdist:\n",
    "#                 mdist = dist\n",
    "#                 zm    = j\n",
    "#         print i,j,mdist,zm\n",
    "#         ziptab[str(i)] = zm\n",
    "#     return DataFrame(data=ziptab,index=['zipc']).transpose()\n",
    "\n",
    "# ziptab = zcit_2_zst(zstations,zcities)"
   ]
  }
 ],
 "metadata": {},
 "nbformat": 4,
 "nbformat_minor": 2
}
